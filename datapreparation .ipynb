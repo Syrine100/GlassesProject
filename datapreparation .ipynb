{
 "cells": [
  {
   "cell_type": "markdown",
   "id": "9a3615c7-91f9-4969-88ed-bc48eb1e958f",
   "metadata": {},
   "source": [
    "## Data exploration"
   ]
  },
  {
   "cell_type": "code",
   "execution_count": 13,
   "id": "45d7716e-62aa-4237-8a19-095f3ccbe027",
   "metadata": {},
   "outputs": [],
   "source": [
    "import pandas as pd\n",
    "import numpy as np\n",
    "import seaborn as sns\n",
    "import matplotlib.pyplot as plt\n",
    "from matplotlib import rcParams\n",
    "%matplotlib inline"
   ]
  },
  {
   "cell_type": "code",
   "execution_count": 2,
   "id": "657a0cc1-8a3c-4bb2-a43f-7fcbe14143d6",
   "metadata": {},
   "outputs": [],
   "source": [
    "#Pour afficher toutes les colonnes\n",
    "df = pd.read_excel('Data.xlsx')"
   ]
  },
  {
   "cell_type": "code",
   "execution_count": 3,
   "id": "9b153d4a-fed2-4269-b6b9-58b329a2023d",
   "metadata": {},
   "outputs": [
    {
     "data": {
      "text/html": [
       "<div>\n",
       "<style scoped>\n",
       "    .dataframe tbody tr th:only-of-type {\n",
       "        vertical-align: middle;\n",
       "    }\n",
       "\n",
       "    .dataframe tbody tr th {\n",
       "        vertical-align: top;\n",
       "    }\n",
       "\n",
       "    .dataframe thead th {\n",
       "        text-align: right;\n",
       "    }\n",
       "</style>\n",
       "<table border=\"1\" class=\"dataframe\">\n",
       "  <thead>\n",
       "    <tr style=\"text-align: right;\">\n",
       "      <th></th>\n",
       "      <th>Unnamed: 0</th>\n",
       "      <th>link</th>\n",
       "      <th>forme</th>\n",
       "      <th>couleur</th>\n",
       "      <th>prix</th>\n",
       "      <th>monture</th>\n",
       "      <th>materiau</th>\n",
       "      <th>poids</th>\n",
       "      <th>sexe</th>\n",
       "      <th>type</th>\n",
       "    </tr>\n",
       "  </thead>\n",
       "  <tbody>\n",
       "    <tr>\n",
       "      <th>0</th>\n",
       "      <td>0</td>\n",
       "      <td>['https://img.ebdcdn.com/product/frame/gray/mt...</td>\n",
       "      <td>Visage rond</td>\n",
       "      <td>Golden</td>\n",
       "      <td>33 €</td>\n",
       "      <td>Lunettes de vue cerclées</td>\n",
       "      <td>metal</td>\n",
       "      <td>Légères (15g)</td>\n",
       "      <td>Homme</td>\n",
       "      <td>Optique</td>\n",
       "    </tr>\n",
       "    <tr>\n",
       "      <th>1</th>\n",
       "      <td>1</td>\n",
       "      <td>['https://img.ebdcdn.com/product/frame/gray/pl...</td>\n",
       "      <td>Rectangulaire</td>\n",
       "      <td>Matte Black</td>\n",
       "      <td>9 €\"</td>\n",
       "      <td>Lunettes de vue cerclées</td>\n",
       "      <td>plastic</td>\n",
       "      <td>Légères (11g)</td>\n",
       "      <td>Homme</td>\n",
       "      <td>Optique</td>\n",
       "    </tr>\n",
       "    <tr>\n",
       "      <th>2</th>\n",
       "      <td>2</td>\n",
       "      <td>['https://img.ebdcdn.com/product/frame/gray/pl...</td>\n",
       "      <td>Rectangulaire</td>\n",
       "      <td>Gray Brown</td>\n",
       "      <td>33 €</td>\n",
       "      <td>Lunettes de vue cerclées</td>\n",
       "      <td>acetate</td>\n",
       "      <td>Légères (15g)</td>\n",
       "      <td>Homme</td>\n",
       "      <td>Optique</td>\n",
       "    </tr>\n",
       "    <tr>\n",
       "      <th>3</th>\n",
       "      <td>3</td>\n",
       "      <td>['https://img.ebdcdn.com/product/frame/gray/pl...</td>\n",
       "      <td>Rectangulaire</td>\n",
       "      <td>Noir</td>\n",
       "      <td>36 €</td>\n",
       "      <td>Lunettes de vue cerclées</td>\n",
       "      <td>acetate</td>\n",
       "      <td>22g</td>\n",
       "      <td>Homme</td>\n",
       "      <td>Optique</td>\n",
       "    </tr>\n",
       "    <tr>\n",
       "      <th>4</th>\n",
       "      <td>4</td>\n",
       "      <td>['https://img.ebdcdn.com/product/frame/gray/pm...</td>\n",
       "      <td>Visage carré</td>\n",
       "      <td>Noir</td>\n",
       "      <td>14 €</td>\n",
       "      <td>Lunettes de vue cerclées</td>\n",
       "      <td>plastic</td>\n",
       "      <td>16g</td>\n",
       "      <td>Homme</td>\n",
       "      <td>Optique</td>\n",
       "    </tr>\n",
       "    <tr>\n",
       "      <th>...</th>\n",
       "      <td>...</td>\n",
       "      <td>...</td>\n",
       "      <td>...</td>\n",
       "      <td>...</td>\n",
       "      <td>...</td>\n",
       "      <td>...</td>\n",
       "      <td>...</td>\n",
       "      <td>...</td>\n",
       "      <td>...</td>\n",
       "      <td>...</td>\n",
       "    </tr>\n",
       "    <tr>\n",
       "      <th>2429</th>\n",
       "      <td>3</td>\n",
       "      <td>['https://img.ebdcdn.com/product/frame/gray/sp...</td>\n",
       "      <td>Aviateur</td>\n",
       "      <td>Écailles</td>\n",
       "      <td>36 €</td>\n",
       "      <td>lunette de soleil cerclées</td>\n",
       "      <td>plastic</td>\n",
       "      <td>Légères (8g)</td>\n",
       "      <td>Enfant</td>\n",
       "      <td>Soleil</td>\n",
       "    </tr>\n",
       "    <tr>\n",
       "      <th>2430</th>\n",
       "      <td>4</td>\n",
       "      <td>['https://img.ebdcdn.com/product/frame/gray/sp...</td>\n",
       "      <td>Rectangulaire</td>\n",
       "      <td>Bleu</td>\n",
       "      <td>30 €</td>\n",
       "      <td>lunette de soleil cerclées</td>\n",
       "      <td>plastic</td>\n",
       "      <td>Légères (10g)</td>\n",
       "      <td>Enfant</td>\n",
       "      <td>Soleil</td>\n",
       "    </tr>\n",
       "    <tr>\n",
       "      <th>2431</th>\n",
       "      <td>5</td>\n",
       "      <td>['https://img.ebdcdn.com/product/frame/gray/sp...</td>\n",
       "      <td>Visage rond</td>\n",
       "      <td>Noir</td>\n",
       "      <td>36 €</td>\n",
       "      <td>lunette de soleil cerclées</td>\n",
       "      <td>plastic</td>\n",
       "      <td>Légères (11g)</td>\n",
       "      <td>Enfant</td>\n",
       "      <td>Soleil</td>\n",
       "    </tr>\n",
       "    <tr>\n",
       "      <th>2432</th>\n",
       "      <td>6</td>\n",
       "      <td>['https://img.ebdcdn.com/product/frame/gray/sp...</td>\n",
       "      <td>Visage rond</td>\n",
       "      <td>Beige Purple</td>\n",
       "      <td>33 €</td>\n",
       "      <td>lunette de soleil cerclées</td>\n",
       "      <td>acetate</td>\n",
       "      <td>Légères (15g)</td>\n",
       "      <td>Enfant</td>\n",
       "      <td>Soleil</td>\n",
       "    </tr>\n",
       "    <tr>\n",
       "      <th>2433</th>\n",
       "      <td>7</td>\n",
       "      <td>['https://img.ebdcdn.com/product/frame/gray/sp...</td>\n",
       "      <td>Visage rond</td>\n",
       "      <td>Coral Tortoise</td>\n",
       "      <td>42 €</td>\n",
       "      <td>lunette de soleil cerclées</td>\n",
       "      <td>acetate</td>\n",
       "      <td>Légères (15g)</td>\n",
       "      <td>Enfant</td>\n",
       "      <td>Soleil</td>\n",
       "    </tr>\n",
       "  </tbody>\n",
       "</table>\n",
       "<p>2434 rows × 10 columns</p>\n",
       "</div>"
      ],
      "text/plain": [
       "      Unnamed: 0                                               link  \\\n",
       "0              0  ['https://img.ebdcdn.com/product/frame/gray/mt...   \n",
       "1              1  ['https://img.ebdcdn.com/product/frame/gray/pl...   \n",
       "2              2  ['https://img.ebdcdn.com/product/frame/gray/pl...   \n",
       "3              3  ['https://img.ebdcdn.com/product/frame/gray/pl...   \n",
       "4              4  ['https://img.ebdcdn.com/product/frame/gray/pm...   \n",
       "...          ...                                                ...   \n",
       "2429           3  ['https://img.ebdcdn.com/product/frame/gray/sp...   \n",
       "2430           4  ['https://img.ebdcdn.com/product/frame/gray/sp...   \n",
       "2431           5  ['https://img.ebdcdn.com/product/frame/gray/sp...   \n",
       "2432           6  ['https://img.ebdcdn.com/product/frame/gray/sp...   \n",
       "2433           7  ['https://img.ebdcdn.com/product/frame/gray/sp...   \n",
       "\n",
       "              forme         couleur  prix                     monture  \\\n",
       "0       Visage rond          Golden  33 €    Lunettes de vue cerclées   \n",
       "1     Rectangulaire     Matte Black  9 €\"    Lunettes de vue cerclées   \n",
       "2     Rectangulaire      Gray Brown  33 €    Lunettes de vue cerclées   \n",
       "3     Rectangulaire            Noir  36 €    Lunettes de vue cerclées   \n",
       "4      Visage carré            Noir  14 €    Lunettes de vue cerclées   \n",
       "...             ...             ...   ...                         ...   \n",
       "2429       Aviateur        Écailles  36 €  lunette de soleil cerclées   \n",
       "2430  Rectangulaire            Bleu  30 €  lunette de soleil cerclées   \n",
       "2431    Visage rond            Noir  36 €  lunette de soleil cerclées   \n",
       "2432    Visage rond    Beige Purple  33 €  lunette de soleil cerclées   \n",
       "2433    Visage rond  Coral Tortoise  42 €  lunette de soleil cerclées   \n",
       "\n",
       "      materiau           poids    sexe     type  \n",
       "0        metal   Légères (15g)   Homme  Optique  \n",
       "1      plastic   Légères (11g)   Homme  Optique  \n",
       "2      acetate   Légères (15g)   Homme  Optique  \n",
       "3      acetate             22g   Homme  Optique  \n",
       "4      plastic             16g   Homme  Optique  \n",
       "...        ...             ...     ...      ...  \n",
       "2429   plastic    Légères (8g)  Enfant   Soleil  \n",
       "2430   plastic   Légères (10g)  Enfant   Soleil  \n",
       "2431   plastic   Légères (11g)  Enfant   Soleil  \n",
       "2432   acetate   Légères (15g)  Enfant   Soleil  \n",
       "2433   acetate   Légères (15g)  Enfant   Soleil  \n",
       "\n",
       "[2434 rows x 10 columns]"
      ]
     },
     "execution_count": 3,
     "metadata": {},
     "output_type": "execute_result"
    }
   ],
   "source": [
    "df"
   ]
  },
  {
   "cell_type": "code",
   "execution_count": 4,
   "id": "01fcf78e-32bf-4946-b54c-8c45dada3de1",
   "metadata": {},
   "outputs": [
    {
     "name": "stdout",
     "output_type": "stream",
     "text": [
      "<class 'pandas.core.frame.DataFrame'>\n",
      "RangeIndex: 2434 entries, 0 to 2433\n",
      "Data columns (total 10 columns):\n",
      " #   Column      Non-Null Count  Dtype \n",
      "---  ------      --------------  ----- \n",
      " 0   Unnamed: 0  2434 non-null   int64 \n",
      " 1   link        2434 non-null   object\n",
      " 2   forme       2434 non-null   object\n",
      " 3   couleur     2434 non-null   object\n",
      " 4   prix        2434 non-null   object\n",
      " 5   monture     2434 non-null   object\n",
      " 6   materiau    2434 non-null   object\n",
      " 7   poids       2434 non-null   object\n",
      " 8   sexe        2434 non-null   object\n",
      " 9   type        2434 non-null   object\n",
      "dtypes: int64(1), object(9)\n",
      "memory usage: 190.3+ KB\n"
     ]
    }
   ],
   "source": [
    "df.info()"
   ]
  },
  {
   "cell_type": "markdown",
   "id": "59126b7c-5610-4f8b-8f6d-ce654be2907e",
   "metadata": {},
   "source": [
    "<h3>Affichage des features</h3>"
   ]
  },
  {
   "cell_type": "code",
   "execution_count": 5,
   "id": "b0944ef8-4c13-4ddb-b369-3b6b394471c6",
   "metadata": {},
   "outputs": [
    {
     "data": {
      "text/plain": [
       "Index(['Unnamed: 0', 'link', 'forme', 'couleur', 'prix', 'monture', 'materiau',\n",
       "       'poids', 'sexe', 'type'],\n",
       "      dtype='object')"
      ]
     },
     "execution_count": 5,
     "metadata": {},
     "output_type": "execute_result"
    }
   ],
   "source": [
    "df.columns"
   ]
  },
  {
   "cell_type": "code",
   "execution_count": 6,
   "id": "823aad94-6229-4c0d-af08-062d08666477",
   "metadata": {},
   "outputs": [],
   "source": [
    "del df['Unnamed: 0']"
   ]
  },
  {
   "cell_type": "markdown",
   "id": "730ef6b0-1c9f-461d-9ad7-1053b2fc62f9",
   "metadata": {},
   "source": [
    "#### Vérification Si notre base contient des valeurs manquantes :"
   ]
  },
  {
   "cell_type": "code",
   "execution_count": 7,
   "id": "fe963e5f-d2af-4f62-8ba0-426a371d189c",
   "metadata": {},
   "outputs": [
    {
     "data": {
      "text/plain": [
       "link        0\n",
       "forme       0\n",
       "couleur     0\n",
       "prix        0\n",
       "monture     0\n",
       "materiau    0\n",
       "poids       0\n",
       "sexe        0\n",
       "type        0\n",
       "dtype: int64"
      ]
     },
     "execution_count": 7,
     "metadata": {},
     "output_type": "execute_result"
    }
   ],
   "source": [
    "df.isnull().sum()"
   ]
  },
  {
   "cell_type": "markdown",
   "id": "e24194da-b8a3-4fd1-b7b2-d6645c1f0a8d",
   "metadata": {},
   "source": [
    "## Observation :"
   ]
  },
  {
   "cell_type": "code",
   "execution_count": 8,
   "id": "2bb2dc22-f858-4101-81f8-6caba81ad384",
   "metadata": {},
   "outputs": [],
   "source": [
    "def column_explorer(column):\n",
    "    ch = \"\"\n",
    "    for cat in column.unique():\n",
    "        ch += str(cat) + \" = \" + str((column==cat).sum()) + \" ; \"\n",
    "    print(ch)\n",
    "    sns.countplot(column,label=\"Count\")"
   ]
  },
  {
   "cell_type": "code",
   "execution_count": 9,
   "id": "c27f38b0-fc5e-40ca-841b-bdd05480dee7",
   "metadata": {},
   "outputs": [
    {
     "name": "stdout",
     "output_type": "stream",
     "text": [
      "Optique = 2006 ; Soleil = 428 ; \n"
     ]
    },
    {
     "name": "stderr",
     "output_type": "stream",
     "text": [
      "C:\\Users\\hazem\\anaconda3\\lib\\site-packages\\seaborn\\_decorators.py:36: FutureWarning: Pass the following variable as a keyword arg: x. From version 0.12, the only valid positional argument will be `data`, and passing other arguments without an explicit keyword will result in an error or misinterpretation.\n",
      "  warnings.warn(\n"
     ]
    },
    {
     "data": {
      "image/png": "[encoded data removed]",
      "text/plain": [
       "<Figure size 432x288 with 1 Axes>"
      ]
     },
     "metadata": {
      "needs_background": "light"
     },
     "output_type": "display_data"
    }
   ],
   "source": [
    "#par rapport le type\n",
    "column_explorer(column=df['type'])"
   ]
  },
  {
   "cell_type": "code",
   "execution_count": 10,
   "id": "c81e2015-8373-4e85-895f-af21fa929dd3",
   "metadata": {},
   "outputs": [
    {
     "name": "stdout",
     "output_type": "stream",
     "text": [
      "Homme = 1080 ; Femme = 1320 ; Enfant = 34 ; \n"
     ]
    },
    {
     "name": "stderr",
     "output_type": "stream",
     "text": [
      "C:\\Users\\hazem\\anaconda3\\lib\\site-packages\\seaborn\\_decorators.py:36: FutureWarning: Pass the following variable as a keyword arg: x. From version 0.12, the only valid positional argument will be `data`, and passing other arguments without an explicit keyword will result in an error or misinterpretation.\n",
      "  warnings.warn(\n"
     ]
    },
    {
     "data": {
      "image/png": "[encoded data removed]",
      "text/plain": [
       "<Figure size 432x288 with 1 Axes>"
      ]
     },
     "metadata": {
      "needs_background": "light"
     },
     "output_type": "display_data"
    }
   ],
   "source": [
    "#par rapport le sexe\n",
    "column_explorer(column=df['sexe'])"
   ]
  },
  {
   "cell_type": "code",
   "execution_count": 11,
   "id": "70fa7e16-800c-46b6-905d-32e01f1dcec6",
   "metadata": {},
   "outputs": [
    {
     "name": "stdout",
     "output_type": "stream",
     "text": [
      "Golden = 66 ; Matte Black = 128 ; Gray Brown = 33 ; Noir = 514 ; Matte Tortoise = 33 ; Or rose = 189 ; Transparent = 187 ; Clear Brown = 44 ; Black Silver = 85 ; Mellow Yellow = 33 ; Warm Tortoise = 33 ; Café = 15 ; Matte Black/Golden  = 33 ; Écailles = 110 ; Argenté = 30 ; Bleu = 54 ; Rainbow = 41 ; Amber Tortoise = 33 ; Violet = 24 ; Bleu marine  = 44 ; Matte Clear = 54 ; Écaille ivoire = 102 ; Navy &amp; Gold = 15 ; Fleuries = 37 ; Orange = 15 ; Jaune = 36 ; Rouge = 23 ; Clear Orange = 15 ; Gunmetal = 21 ; Dark Red = 15 ; Clear Melon = 25 ; Léopard = 18 ; Ivory/Tortoise = 18 ; Tortoise Green = 18 ; Clear Purple = 19 ; Champagne = 18 ; Glitter Rose Gold = 18 ; Brown/Tortoise = 18 ; Red &amp; Gold = 18 ; Vert = 1 ; Rose = 1 ; Clear &amp; Silver = 1 ; Clear Pink = 2 ; Teal = 1 ; Mulberry Tortoise = 1 ; Purple Pink = 1 ; Doré = 31 ; Cassis = 7 ; Blue Striped = 7 ; Bronze = 21 ; Clear Gray = 7 ; Clear Blue = 14 ; Light Tortoise = 7 ;  Light Golden  = 7 ; Matte Black Orange = 3 ;  Navy  = 7 ; Matte Navy = 11 ; Black Tortoise = 3 ;  Clear Silver  = 7 ;  Matte Silver  = 7 ; Matte Gray = 3 ; Atlantic Blue &amp; Warm Tortoise = 7 ; Brown Striped = 3 ; Warm Tortoise &amp; Basalt = 3 ; Black &amp; Wood = 3 ; Marron = 3 ; Floral Tortoise = 4 ; Lavender = 4 ; Clear Teal = 4 ; Matte Brown = 4 ; Burgundy = 4 ; Light Blue = 4 ; Mint Frost = 4 ; Black Floral = 1 ; Red Tortoise = 1 ; Black Pink = 1 ; Beige Purple = 1 ; Coral Tortoise = 1 ; \n"
     ]
    },
    {
     "name": "stderr",
     "output_type": "stream",
     "text": [
      "C:\\Users\\hazem\\anaconda3\\lib\\site-packages\\seaborn\\_decorators.py:36: FutureWarning: Pass the following variable as a keyword arg: x. From version 0.12, the only valid positional argument will be `data`, and passing other arguments without an explicit keyword will result in an error or misinterpretation.\n",
      "  warnings.warn(\n"
     ]
    },
    {
     "data": {
      "image/png": "[encoded data removed]",
      "text/plain": [
       "<Figure size 432x288 with 1 Axes>"
      ]
     },
     "metadata": {
      "needs_background": "light"
     },
     "output_type": "display_data"
    }
   ],
   "source": [
    "column_explorer(column=df['couleur'])"
   ]
  },
  {
   "cell_type": "code",
   "execution_count": 12,
   "id": "37a0737b-fd92-4992-b12d-702ed3781966",
   "metadata": {},
   "outputs": [
    {
     "name": "stderr",
     "output_type": "stream",
     "text": [
      "No handles with labels found to put in legend.\n"
     ]
    },
    {
     "data": {
      "image/png": "[encoded data removed]",
      "text/plain": [
       "<Figure size 1656x648 with 1 Axes>"
      ]
     },
     "metadata": {},
     "output_type": "display_data"
    }
   ],
   "source": [
    "## affichage du default payment next month en fonction du count \n",
    "sns.set(font_scale=1)\n",
    "total_cnt = df['forme'].count()\n",
    "rcParams['figure.figsize'] = 23,9\n",
    "sns.set(font_scale= 2)\n",
    "sns.set_style(\"white\")\n",
    "ax = sns.countplot(x=\"forme\" , data=df, palette = 'Blues_r')\n",
    "ax.set_title('Defaulted Count')\n",
    "plt.legend(loc = 'upper right')\n",
    "for p in ax.patches:\n",
    "    x, height , width = p.get_x() , p.get_height() , p.get_width()\n",
    "    ax.text(x + width / 2, height + 10, f'{height} / {height / total_cnt * 100:2.1f}%', va='center', ha='center', size=20)\n",
    "sns.despine()"
   ]
  },
  {
   "cell_type": "code",
   "execution_count": 13,
   "id": "8a7572a1-1589-4950-a836-2a07e601e575",
   "metadata": {},
   "outputs": [
    {
     "name": "stdout",
     "output_type": "stream",
     "text": [
      " metal = 597 ;  plastic = 547 ;  acetate = 767 ;  acetate-metal = 411 ;  plastic-metal = 102 ;  acetate, metal = 7 ;  acetate, mixed wood = 3 ; \n"
     ]
    },
    {
     "name": "stderr",
     "output_type": "stream",
     "text": [
      "C:\\Users\\hazem\\anaconda3\\lib\\site-packages\\seaborn\\_decorators.py:36: FutureWarning: Pass the following variable as a keyword arg: x. From version 0.12, the only valid positional argument will be `data`, and passing other arguments without an explicit keyword will result in an error or misinterpretation.\n",
      "  warnings.warn(\n"
     ]
    },
    {
     "data": {
      "image/png": "[encoded data removed]",
      "text/plain": [
       "<Figure size 1656x648 with 1 Axes>"
      ]
     },
     "metadata": {},
     "output_type": "display_data"
    }
   ],
   "source": [
    "column_explorer(column=df['materiau'])"
   ]
  },
  {
   "cell_type": "code",
   "execution_count": 14,
   "id": "d80c0797-43d6-4180-8d89-dceed8754dd3",
   "metadata": {},
   "outputs": [
    {
     "name": "stdout",
     "output_type": "stream",
     "text": [
      "Lunettes de vue cerclées = 1767 ; Lunettes de vue percées = 99 ; Lunettes de vue demi-cerclées = 114 ; lunette de soleil cerclées = 454 ; \n"
     ]
    },
    {
     "name": "stderr",
     "output_type": "stream",
     "text": [
      "C:\\Users\\hazem\\anaconda3\\lib\\site-packages\\seaborn\\_decorators.py:36: FutureWarning: Pass the following variable as a keyword arg: x. From version 0.12, the only valid positional argument will be `data`, and passing other arguments without an explicit keyword will result in an error or misinterpretation.\n",
      "  warnings.warn(\n"
     ]
    },
    {
     "data": {
      "image/png": "[encoded data removed]",
      "text/plain": [
       "<Figure size 1656x648 with 1 Axes>"
      ]
     },
     "metadata": {},
     "output_type": "display_data"
    }
   ],
   "source": [
    "column_explorer(column=df['monture'])"
   ]
  },
  {
   "cell_type": "markdown",
   "id": "3f5de157-efd1-4799-a76d-44a2ec01ffba",
   "metadata": {},
   "source": [
    "## Data classification"
   ]
  },
  {
   "cell_type": "code",
   "execution_count": 15,
   "id": "bcf0bf87-3da3-451d-9c50-26991e022556",
   "metadata": {},
   "outputs": [],
   "source": [
    "#split dataset : 0.7 train , 0.15 test , 0.15 valid\n",
    "from sklearn.model_selection import train_test_split\n",
    "df_train, df_test = train_test_split(df, test_size = 0.3, random_state = 0)\n",
    "df_test, df_valid = train_test_split(df_test, test_size = 0.5, random_state = 0)"
   ]
  },
  {
   "cell_type": "code",
   "execution_count": 16,
   "id": "11dedd24-2d85-4a0e-92f9-55a44bdac6c0",
   "metadata": {},
   "outputs": [
    {
     "data": {
      "text/html": [
       "<div>\n",
       "<style scoped>\n",
       "    .dataframe tbody tr th:only-of-type {\n",
       "        vertical-align: middle;\n",
       "    }\n",
       "\n",
       "    .dataframe tbody tr th {\n",
       "        vertical-align: top;\n",
       "    }\n",
       "\n",
       "    .dataframe thead th {\n",
       "        text-align: right;\n",
       "    }\n",
       "</style>\n",
       "<table border=\"1\" class=\"dataframe\">\n",
       "  <thead>\n",
       "    <tr style=\"text-align: right;\">\n",
       "      <th></th>\n",
       "      <th>link</th>\n",
       "      <th>forme</th>\n",
       "      <th>couleur</th>\n",
       "      <th>prix</th>\n",
       "      <th>monture</th>\n",
       "      <th>materiau</th>\n",
       "      <th>poids</th>\n",
       "      <th>sexe</th>\n",
       "      <th>type</th>\n",
       "    </tr>\n",
       "  </thead>\n",
       "  <tbody>\n",
       "    <tr>\n",
       "      <th>1501</th>\n",
       "      <td>['https://img.ebdcdn.com/product/frame/gray/pl...</td>\n",
       "      <td>Rectangulaire</td>\n",
       "      <td>Matte Black</td>\n",
       "      <td>9 €\"</td>\n",
       "      <td>Lunettes de vue cerclées</td>\n",
       "      <td>plastic</td>\n",
       "      <td>Légères (11g)</td>\n",
       "      <td>Femme</td>\n",
       "      <td>Optique</td>\n",
       "    </tr>\n",
       "    <tr>\n",
       "      <th>1340</th>\n",
       "      <td>['https://img.ebdcdn.com/product/frame/gray/pm...</td>\n",
       "      <td>Cat Eye</td>\n",
       "      <td>Tortoise Green</td>\n",
       "      <td>55 €</td>\n",
       "      <td>Lunettes de vue cerclées</td>\n",
       "      <td>acetate-metal</td>\n",
       "      <td>16g</td>\n",
       "      <td>Femme</td>\n",
       "      <td>Optique</td>\n",
       "    </tr>\n",
       "    <tr>\n",
       "      <th>1330</th>\n",
       "      <td>['https://img.ebdcdn.com/product/frame/gray/pm...</td>\n",
       "      <td>Visage carré</td>\n",
       "      <td>Clear Brown</td>\n",
       "      <td>39 €</td>\n",
       "      <td>Lunettes de vue cerclées</td>\n",
       "      <td>acetate-metal</td>\n",
       "      <td>19g</td>\n",
       "      <td>Femme</td>\n",
       "      <td>Optique</td>\n",
       "    </tr>\n",
       "    <tr>\n",
       "      <th>1854</th>\n",
       "      <td>['https://img.ebdcdn.com/product/frame/gray/pl...</td>\n",
       "      <td>Visage carré</td>\n",
       "      <td>Black Silver</td>\n",
       "      <td>55 €</td>\n",
       "      <td>Lunettes de vue cerclées</td>\n",
       "      <td>acetate</td>\n",
       "      <td>Légères (14g)</td>\n",
       "      <td>Femme</td>\n",
       "      <td>Optique</td>\n",
       "    </tr>\n",
       "    <tr>\n",
       "      <th>2026</th>\n",
       "      <td>['https://img.ebdcdn.com/product/frame/gray/sm...</td>\n",
       "      <td>Visage rond</td>\n",
       "      <td>Light Golden</td>\n",
       "      <td>30 €</td>\n",
       "      <td>lunette de soleil cerclées</td>\n",
       "      <td>metal</td>\n",
       "      <td>16g</td>\n",
       "      <td>Homme</td>\n",
       "      <td>Soleil</td>\n",
       "    </tr>\n",
       "    <tr>\n",
       "      <th>...</th>\n",
       "      <td>...</td>\n",
       "      <td>...</td>\n",
       "      <td>...</td>\n",
       "      <td>...</td>\n",
       "      <td>...</td>\n",
       "      <td>...</td>\n",
       "      <td>...</td>\n",
       "      <td>...</td>\n",
       "      <td>...</td>\n",
       "    </tr>\n",
       "    <tr>\n",
       "      <th>1677</th>\n",
       "      <td>['https://img.ebdcdn.com/product/frame/gray/pl...</td>\n",
       "      <td>Visage rond</td>\n",
       "      <td>Warm Tortoise</td>\n",
       "      <td>36 €</td>\n",
       "      <td>Lunettes de vue cerclées</td>\n",
       "      <td>acetate</td>\n",
       "      <td>20g</td>\n",
       "      <td>Femme</td>\n",
       "      <td>Optique</td>\n",
       "    </tr>\n",
       "    <tr>\n",
       "      <th>77</th>\n",
       "      <td>['https://img.ebdcdn.com/product/frame/gray/mt...</td>\n",
       "      <td>Visage carré</td>\n",
       "      <td>Or rose</td>\n",
       "      <td>17 €</td>\n",
       "      <td>Lunettes de vue cerclées</td>\n",
       "      <td>metal</td>\n",
       "      <td>Légères (11g)</td>\n",
       "      <td>Homme</td>\n",
       "      <td>Optique</td>\n",
       "    </tr>\n",
       "    <tr>\n",
       "      <th>1523</th>\n",
       "      <td>['https://img.ebdcdn.com/product/frame/gray/pl...</td>\n",
       "      <td>Visage carré</td>\n",
       "      <td>Or rose</td>\n",
       "      <td>39 €</td>\n",
       "      <td>Lunettes de vue cerclées</td>\n",
       "      <td>acetate-metal</td>\n",
       "      <td>Légères (13g)</td>\n",
       "      <td>Femme</td>\n",
       "      <td>Optique</td>\n",
       "    </tr>\n",
       "    <tr>\n",
       "      <th>933</th>\n",
       "      <td>['https://img.ebdcdn.com/product/frame/gray/hm...</td>\n",
       "      <td>Rectangulaire</td>\n",
       "      <td>Bleu marine</td>\n",
       "      <td>14 €</td>\n",
       "      <td>Lunettes de vue demi-cerclées</td>\n",
       "      <td>metal</td>\n",
       "      <td>Légères (13g)</td>\n",
       "      <td>Femme</td>\n",
       "      <td>Optique</td>\n",
       "    </tr>\n",
       "    <tr>\n",
       "      <th>1537</th>\n",
       "      <td>['https://img.ebdcdn.com/product/frame/gray/rm...</td>\n",
       "      <td>Cœur</td>\n",
       "      <td>Glitter Rose Gold</td>\n",
       "      <td>42 €</td>\n",
       "      <td>Lunettes de vue percées</td>\n",
       "      <td>metal</td>\n",
       "      <td>Légères (14g)</td>\n",
       "      <td>Femme</td>\n",
       "      <td>Optique</td>\n",
       "    </tr>\n",
       "  </tbody>\n",
       "</table>\n",
       "<p>366 rows × 9 columns</p>\n",
       "</div>"
      ],
      "text/plain": [
       "                                                   link          forme  \\\n",
       "1501  ['https://img.ebdcdn.com/product/frame/gray/pl...  Rectangulaire   \n",
       "1340  ['https://img.ebdcdn.com/product/frame/gray/pm...        Cat Eye   \n",
       "1330  ['https://img.ebdcdn.com/product/frame/gray/pm...   Visage carré   \n",
       "1854  ['https://img.ebdcdn.com/product/frame/gray/pl...   Visage carré   \n",
       "2026  ['https://img.ebdcdn.com/product/frame/gray/sm...    Visage rond   \n",
       "...                                                 ...            ...   \n",
       "1677  ['https://img.ebdcdn.com/product/frame/gray/pl...    Visage rond   \n",
       "77    ['https://img.ebdcdn.com/product/frame/gray/mt...   Visage carré   \n",
       "1523  ['https://img.ebdcdn.com/product/frame/gray/pl...   Visage carré   \n",
       "933   ['https://img.ebdcdn.com/product/frame/gray/hm...  Rectangulaire   \n",
       "1537  ['https://img.ebdcdn.com/product/frame/gray/rm...           Cœur   \n",
       "\n",
       "                couleur  prix                        monture        materiau  \\\n",
       "1501        Matte Black  9 €\"       Lunettes de vue cerclées         plastic   \n",
       "1340     Tortoise Green  55 €       Lunettes de vue cerclées   acetate-metal   \n",
       "1330        Clear Brown  39 €       Lunettes de vue cerclées   acetate-metal   \n",
       "1854       Black Silver  55 €       Lunettes de vue cerclées         acetate   \n",
       "2026      Light Golden   30 €     lunette de soleil cerclées           metal   \n",
       "...                 ...   ...                            ...             ...   \n",
       "1677      Warm Tortoise  36 €       Lunettes de vue cerclées         acetate   \n",
       "77              Or rose  17 €       Lunettes de vue cerclées           metal   \n",
       "1523            Or rose  39 €       Lunettes de vue cerclées   acetate-metal   \n",
       "933        Bleu marine   14 €  Lunettes de vue demi-cerclées           metal   \n",
       "1537  Glitter Rose Gold  42 €        Lunettes de vue percées           metal   \n",
       "\n",
       "               poids   sexe     type  \n",
       "1501   Légères (11g)  Femme  Optique  \n",
       "1340             16g  Femme  Optique  \n",
       "1330             19g  Femme  Optique  \n",
       "1854   Légères (14g)  Femme  Optique  \n",
       "2026             16g  Homme   Soleil  \n",
       "...              ...    ...      ...  \n",
       "1677             20g  Femme  Optique  \n",
       "77     Légères (11g)  Homme  Optique  \n",
       "1523   Légères (13g)  Femme  Optique  \n",
       "933    Légères (13g)  Femme  Optique  \n",
       "1537   Légères (14g)  Femme  Optique  \n",
       "\n",
       "[366 rows x 9 columns]"
      ]
     },
     "execution_count": 16,
     "metadata": {},
     "output_type": "execute_result"
    }
   ],
   "source": [
    "df_valid"
   ]
  },
  {
   "cell_type": "code",
   "execution_count": 17,
   "id": "123d3e58-5b7d-4c21-b657-a4a7d0ca8c85",
   "metadata": {},
   "outputs": [],
   "source": [
    " df_train1=df_train.reset_index(drop = True)"
   ]
  },
  {
   "cell_type": "code",
   "execution_count": 18,
   "id": "2789d70a-8667-420f-965d-c3b37803db48",
   "metadata": {},
   "outputs": [],
   "source": [
    "df_test1=df_test.reset_index(drop = True)"
   ]
  },
  {
   "cell_type": "code",
   "execution_count": 19,
   "id": "c52ad808-69fe-4b51-b4ac-d1df36c48082",
   "metadata": {},
   "outputs": [],
   "source": [
    "df_valid1=df_valid.reset_index(drop = True)"
   ]
  },
  {
   "cell_type": "code",
   "execution_count": 20,
   "id": "c46def2e-2a1e-4373-ac8d-c5db76a8fed4",
   "metadata": {},
   "outputs": [],
   "source": [
    "import  os\n",
    "def create_directory(directory):\n",
    "    if not os.path.exists(directory):\n",
    "        os.makedirs(directory)\n",
    "        \n",
    "def create_directory_by_modality(classe):\n",
    "    create_directory('data/glasses_kpi_extraction/traindata'+classe)\n",
    "    for cat in df[classe].unique():\n",
    "            create_directory('data/glasses_kpi_extraction/traindata/'+classe+'/'+str(cat).replace(\" \", \"\"))\n",
    "            create_directory('data/glasses_kpi_extraction/testdata/'+classe+'/'+str(cat).replace(\" \", \"\"))\n",
    "            create_directory('data/glasses_kpi_extraction/validdata/'+classe+'/'+str(cat).replace(\" \", \"\"))\n",
    "\n",
    "create_directory('data/glasses_kpi_extraction/traindata')\n",
    "create_directory('data/glasses_kpi_extraction/testdata')\n",
    "create_directory('data/glasses_kpi_extraction/validdata')\n",
    "\n",
    "create_directory_by_modality(classe='type')\n",
    "create_directory_by_modality(classe='couleur')\n",
    "create_directory_by_modality(classe='materiau')\n",
    "create_directory_by_modality(classe='sexe')\n",
    "create_directory_by_modality(classe='forme')\n",
    "create_directory_by_modality(classe='poids')\n",
    "create_directory_by_modality(classe='monture')\n"
   ]
  },
  {
   "cell_type": "code",
   "execution_count": 21,
   "id": "30230656-87c5-4b7c-a224-60a138bd418a",
   "metadata": {},
   "outputs": [
    {
     "data": {
      "text/plain": [
       "'Matte Black'"
      ]
     },
     "execution_count": 21,
     "metadata": {},
     "output_type": "execute_result"
    }
   ],
   "source": [
    "df['couleur'][1]"
   ]
  },
  {
   "cell_type": "code",
   "execution_count": 23,
   "id": "7aa77b05-8655-45c7-911b-dc39b94030da",
   "metadata": {},
   "outputs": [
    {
     "data": {
      "text/plain": [
       "array(['Golden', 'Matte Black', 'Gray Brown', 'Noir', 'Matte Tortoise',\n",
       "       'Or rose', 'Transparent', 'Clear Brown', 'Black Silver',\n",
       "       'Mellow Yellow', 'Warm Tortoise', 'Café', 'Matte Black/Golden ',\n",
       "       'Écailles', 'Argenté', 'Bleu', 'Rainbow', 'Amber Tortoise',\n",
       "       'Violet', 'Bleu marine ', 'Matte Clear', 'Écaille ivoire',\n",
       "       'Navy &amp; Gold', 'Fleuries', 'Orange', 'Jaune', 'Rouge',\n",
       "       'Clear Orange', 'Gunmetal', 'Dark Red', 'Clear Melon', 'Léopard',\n",
       "       'Ivory/Tortoise', 'Tortoise Green', 'Clear Purple', 'Champagne',\n",
       "       'Glitter Rose Gold', 'Brown/Tortoise', 'Red &amp; Gold', 'Vert',\n",
       "       'Rose', 'Clear &amp; Silver', 'Clear Pink', 'Teal',\n",
       "       'Mulberry Tortoise', 'Purple Pink', 'Doré', 'Cassis',\n",
       "       'Blue Striped', 'Bronze', 'Clear Gray', 'Clear Blue',\n",
       "       'Light Tortoise', ' Light Golden ', 'Matte Black Orange', ' Navy ',\n",
       "       'Matte Navy', 'Black Tortoise', ' Clear Silver ', ' Matte Silver ',\n",
       "       'Matte Gray', 'Atlantic Blue &amp; Warm Tortoise', 'Brown Striped',\n",
       "       'Warm Tortoise &amp; Basalt', 'Black &amp; Wood', 'Marron',\n",
       "       'Floral Tortoise', 'Lavender', 'Clear Teal', 'Matte Brown',\n",
       "       'Burgundy', 'Light Blue', 'Mint Frost', 'Black Floral',\n",
       "       'Red Tortoise', 'Black Pink', 'Beige Purple', 'Coral Tortoise'],\n",
       "      dtype=object)"
      ]
     },
     "execution_count": 23,
     "metadata": {},
     "output_type": "execute_result"
    }
   ],
   "source": [
    "d=df['couleur'].unique()\n",
    "d"
   ]
  },
  {
   "cell_type": "code",
   "execution_count": 24,
   "id": "c445e615-8df8-43fe-a471-f115f44b10e8",
   "metadata": {},
   "outputs": [
    {
     "data": {
      "text/plain": [
       "['Golden',\n",
       " 'MatteBlack',\n",
       " 'GrayBrown',\n",
       " 'Noir',\n",
       " 'MatteTortoise',\n",
       " 'Orrose',\n",
       " 'Transparent',\n",
       " 'ClearBrown',\n",
       " 'BlackSilver',\n",
       " 'MellowYellow',\n",
       " 'WarmTortoise',\n",
       " 'Café',\n",
       " 'MatteBlack/Golden',\n",
       " 'Écailles',\n",
       " 'Argenté',\n",
       " 'Bleu',\n",
       " 'Rainbow',\n",
       " 'AmberTortoise',\n",
       " 'Violet',\n",
       " 'Bleumarine',\n",
       " 'MatteClear',\n",
       " 'Écailleivoire',\n",
       " 'Navy&amp;Gold',\n",
       " 'Fleuries',\n",
       " 'Orange',\n",
       " 'Jaune',\n",
       " 'Rouge',\n",
       " 'ClearOrange',\n",
       " 'Gunmetal',\n",
       " 'DarkRed',\n",
       " 'ClearMelon',\n",
       " 'Léopard',\n",
       " 'Ivory/Tortoise',\n",
       " 'TortoiseGreen',\n",
       " 'ClearPurple',\n",
       " 'Champagne',\n",
       " 'GlitterRoseGold',\n",
       " 'Brown/Tortoise',\n",
       " 'Red&amp;Gold',\n",
       " 'Vert',\n",
       " 'Rose',\n",
       " 'Clear&amp;Silver',\n",
       " 'ClearPink',\n",
       " 'Teal',\n",
       " 'MulberryTortoise',\n",
       " 'PurplePink',\n",
       " 'Doré',\n",
       " 'Cassis',\n",
       " 'BlueStriped',\n",
       " 'Bronze',\n",
       " 'ClearGray',\n",
       " 'ClearBlue',\n",
       " 'LightTortoise',\n",
       " 'LightGolden',\n",
       " 'MatteBlackOrange',\n",
       " 'Navy',\n",
       " 'MatteNavy',\n",
       " 'BlackTortoise',\n",
       " 'ClearSilver',\n",
       " 'MatteSilver',\n",
       " 'MatteGray',\n",
       " 'AtlanticBlue&amp;WarmTortoise',\n",
       " 'BrownStriped',\n",
       " 'WarmTortoise&amp;Basalt',\n",
       " 'Black&amp;Wood',\n",
       " 'Marron',\n",
       " 'FloralTortoise',\n",
       " 'Lavender',\n",
       " 'ClearTeal',\n",
       " 'MatteBrown',\n",
       " 'Burgundy',\n",
       " 'LightBlue',\n",
       " 'MintFrost',\n",
       " 'BlackFloral',\n",
       " 'RedTortoise',\n",
       " 'BlackPink',\n",
       " 'BeigePurple',\n",
       " 'CoralTortoise']"
      ]
     },
     "execution_count": 24,
     "metadata": {},
     "output_type": "execute_result"
    }
   ],
   "source": [
    "L=[]\n",
    "for i in d:\n",
    " L.append(i.replace(\" \", \"\"))\n",
    "L"
   ]
  },
  {
   "cell_type": "code",
   "execution_count": 25,
   "id": "4aab7de4-8cde-4e1d-b461-9cb8e459b193",
   "metadata": {},
   "outputs": [
    {
     "data": {
      "text/plain": [
       "0       ['https://img.ebdcdn.com/product/frame/gray/pl...\n",
       "1       ['https://img.ebdcdn.com/product/frame/gray/pm...\n",
       "2       ['https://img.ebdcdn.com/product/frame/gray/pl...\n",
       "3       ['https://img.ebdcdn.com/product/frame/gray/pm...\n",
       "4       ['https://img.ebdcdn.com/product/frame/gray/sp...\n",
       "                              ...                        \n",
       "1698    ['https://img.ebdcdn.com/product/frame/gray/pl...\n",
       "1699    ['https://img.ebdcdn.com/product/frame/gray/pl...\n",
       "1700    ['https://img.ebdcdn.com/product/frame/gray/pm...\n",
       "1701    ['https://img.ebdcdn.com/product/frame/gray/pl...\n",
       "1702    ['https://img.ebdcdn.com/product/frame/gray/hm...\n",
       "Name: link, Length: 1703, dtype: object"
      ]
     },
     "execution_count": 25,
     "metadata": {},
     "output_type": "execute_result"
    }
   ],
   "source": [
    "df_train1['link']"
   ]
  },
  {
   "cell_type": "code",
   "execution_count": null,
   "id": "c8e59c1c-d377-4e98-8cbb-c29851d578d5",
   "metadata": {},
   "outputs": [],
   "source": []
  },
  {
   "cell_type": "code",
   "execution_count": 26,
   "id": "5ebacef5-5426-440b-a32d-eb8f0d259d7b",
   "metadata": {},
   "outputs": [],
   "source": [
    "#couleur=df['couleur'].unique()\n",
    "def save_images_couleur(couleur):\n",
    "  FILE_PATH = 'data/glasses_kpi_extraction/traindata/couleur/'+couleur+'/'\n",
    "  for i in range(df_train1.shape[0]):\n",
    "    if i != 1 :\n",
    "     filename = 'image-{}.jpg'.format(i)\n",
    "     if df_train1['couleur'][i].replace(\" \", \"\")==couleur:\n",
    "      url=df_train1['link'][i].split(';')[0][2:]\n",
    "      full_path = '{}{}'.format(FILE_PATH, filename)\n",
    "      urllib.request.urlretrieve(url, full_path)\n",
    "      "
   ]
  },
  {
   "cell_type": "code",
   "execution_count": 27,
   "id": "f38dbfee-bb40-437e-8f6a-88db74775281",
   "metadata": {},
   "outputs": [
    {
     "name": "stdout",
     "output_type": "stream",
     "text": [
      "Golden\n",
      "MatteBlack\n",
      "GrayBrown\n",
      "Noir\n",
      "MatteTortoise\n",
      "Orrose\n",
      "Transparent\n",
      "ClearBrown\n",
      "BlackSilver\n",
      "MellowYellow\n",
      "WarmTortoise\n",
      "Café\n",
      "MatteBlack/Golden\n",
      "Écailles\n",
      "Argenté\n",
      "Bleu\n",
      "Rainbow\n",
      "AmberTortoise\n",
      "Violet\n",
      "Bleumarine\n",
      "MatteClear\n",
      "Écailleivoire\n",
      "Navy&amp;Gold\n",
      "Fleuries\n",
      "Orange\n",
      "Jaune\n",
      "Rouge\n",
      "ClearOrange\n",
      "Gunmetal\n",
      "DarkRed\n",
      "ClearMelon\n",
      "Léopard\n",
      "Ivory/Tortoise\n",
      "TortoiseGreen\n",
      "ClearPurple\n",
      "Champagne\n",
      "GlitterRoseGold\n",
      "Brown/Tortoise\n",
      "Red&amp;Gold\n",
      "Vert\n",
      "Rose\n",
      "Clear&amp;Silver\n",
      "ClearPink\n",
      "Teal\n",
      "MulberryTortoise\n",
      "PurplePink\n",
      "Doré\n",
      "Cassis\n",
      "BlueStriped\n",
      "Bronze\n",
      "ClearGray\n",
      "ClearBlue\n",
      "LightTortoise\n",
      "LightGolden\n",
      "MatteBlackOrange\n",
      "Navy\n",
      "MatteNavy\n",
      "BlackTortoise\n",
      "ClearSilver\n",
      "MatteSilver\n",
      "MatteGray\n",
      "AtlanticBlue&amp;WarmTortoise\n",
      "BrownStriped\n",
      "WarmTortoise&amp;Basalt\n",
      "Black&amp;Wood\n",
      "Marron\n",
      "FloralTortoise\n",
      "Lavender\n",
      "ClearTeal\n",
      "MatteBrown\n",
      "Burgundy\n",
      "LightBlue\n",
      "MintFrost\n",
      "BlackFloral\n",
      "RedTortoise\n",
      "BlackPink\n",
      "BeigePurple\n",
      "CoralTortoise\n"
     ]
    }
   ],
   "source": [
    "for c in L :\n",
    "    print(c)\n"
   ]
  },
  {
   "cell_type": "code",
   "execution_count": 28,
   "id": "47f0b9db-8e18-4084-b18d-91c3ecc7b85a",
   "metadata": {},
   "outputs": [
    {
     "data": {
      "text/plain": [
       "array(['Champagne', 'Transparent', 'Écailles', 'Fleuries', 'Clear Gray',\n",
       "       'Noir', 'Matte Black', 'Amber Tortoise', 'Rainbow', 'Or rose',\n",
       "       'Matte Black/Golden ', 'Violet', 'Warm Tortoise', 'Bleu marine ',\n",
       "       'Bleu', 'Black Silver', 'Bronze', 'Glitter Rose Gold',\n",
       "       'Brown/Tortoise', 'Doré', 'Gunmetal', 'Matte Clear',\n",
       "       'Écaille ivoire', 'Mellow Yellow', 'Navy &amp; Gold', 'Golden',\n",
       "       'Tortoise Green', ' Matte Silver ', 'Light Blue', 'Jaune',\n",
       "       'Matte Tortoise', 'Argenté', 'Mint Frost', 'Clear Orange',\n",
       "       'Matte Navy', 'Gray Brown', 'Clear Brown', 'Clear Melon',\n",
       "       'Clear Blue', 'Floral Tortoise', 'Burgundy', ' Light Golden ',\n",
       "       'Ivory/Tortoise', 'Café', 'Rouge', 'Vert', 'Orange', 'Dark Red',\n",
       "       'Clear Teal', 'Lavender', 'Léopard', 'Clear Purple', 'Purple Pink',\n",
       "       'Cassis', 'Black Floral', ' Navy ',\n",
       "       'Atlantic Blue &amp; Warm Tortoise', 'Black Pink', 'Beige Purple',\n",
       "       'Rose', 'Red &amp; Gold', 'Coral Tortoise', 'Clear &amp; Silver',\n",
       "       'Matte Gray', 'Black &amp; Wood', 'Clear Pink', 'Matte Brown',\n",
       "       'Matte Black Orange', 'Light Tortoise',\n",
       "       'Warm Tortoise &amp; Basalt', 'Blue Striped', 'Marron',\n",
       "       'Red Tortoise', ' Clear Silver ', 'Teal', 'Brown Striped',\n",
       "       'Black Tortoise', 'Mulberry Tortoise'], dtype=object)"
      ]
     },
     "execution_count": 28,
     "metadata": {},
     "output_type": "execute_result"
    }
   ],
   "source": [
    "df_train1['couleur'].unique()"
   ]
  },
  {
   "cell_type": "code",
   "execution_count": 29,
   "id": "cca01d4b-c79a-4dd6-b274-57345ec3f41d",
   "metadata": {},
   "outputs": [],
   "source": [
    "import urllib\n",
    "def save_all_images_couleur():\n",
    "    for c in L :\n",
    "        if c!='Matte Black/Golden ' and c!='Ivory/Tortoise ' and c!='Brown/Tortoise ' :\n",
    "          save_images_couleur(c)\n",
    "    return(\"succes\")\n",
    "      "
   ]
  },
  {
   "cell_type": "code",
   "execution_count": 30,
   "id": "e8236be0-3fae-482a-a369-1515b6dc983f",
   "metadata": {},
   "outputs": [
    {
     "data": {
      "text/plain": [
       "'succes'"
      ]
     },
     "execution_count": 30,
     "metadata": {},
     "output_type": "execute_result"
    }
   ],
   "source": [
    "save_all_images_couleur()"
   ]
  },
  {
   "cell_type": "code",
   "execution_count": 30,
   "id": "845a41ef-ef5d-419c-a055-c41f8f8821a7",
   "metadata": {},
   "outputs": [],
   "source": [
    "#couleur=df['couleur'].unique()\n",
    "def save_images_couleur_test(couleur):\n",
    "  FILE_PATH = 'data/glasses_kpi_extraction/testdata/couleur/'+couleur+'/'\n",
    "  for i in range(df_test1.shape[0]):\n",
    "    if i != 1 :\n",
    "     filename = 'image-{}.jpg'.format(i)\n",
    "     if df_test1['couleur'][i].replace(\" \", \"\")==couleur:\n",
    "      url=df_test1['link'][i].split(';')[0][2:]\n",
    "      full_path = '{}{}'.format(FILE_PATH, filename)\n",
    "      urllib.request.urlretrieve(url, full_path)\n",
    "      "
   ]
  },
  {
   "cell_type": "code",
   "execution_count": 31,
   "id": "99fc49bd-2be0-44b7-818b-5a050c9df1c9",
   "metadata": {},
   "outputs": [],
   "source": [
    "import urllib\n",
    "def save_all_images_couleur_test():\n",
    "    for c in L :\n",
    "        if c!='Matte Black/Golden ' and c!='Ivory/Tortoise ' and c!='Brown/Tortoise ' :\n",
    "          save_images_couleur_test(c)\n",
    "    return(\"succes\")"
   ]
  },
  {
   "cell_type": "code",
   "execution_count": 33,
   "id": "01be3b8e-170c-4f25-b9ec-ccfb2e36e7c2",
   "metadata": {},
   "outputs": [
    {
     "data": {
      "text/plain": [
       "'succes'"
      ]
     },
     "execution_count": 33,
     "metadata": {},
     "output_type": "execute_result"
    }
   ],
   "source": [
    "save_all_images_couleur_test()"
   ]
  },
  {
   "cell_type": "code",
   "execution_count": 32,
   "id": "399e32b0-d65b-440f-9f1e-b2c66932bd48",
   "metadata": {},
   "outputs": [],
   "source": [
    "def save_images_couleur_valid(couleur):\n",
    "  FILE_PATH = 'data/glasses_kpi_extraction/validdata/couleur/'+couleur+'/'\n",
    "  for i in range(df_valid1.shape[0]):\n",
    "    if i != 1 :\n",
    "     filename = 'image-{}.jpg'.format(i)\n",
    "     if df_valid1['couleur'][i]==couleur:\n",
    "      url=df_valid1['link'][i].split(';')[0][2:]\n",
    "      full_path = '{}{}'.format(FILE_PATH, filename)\n",
    "      urllib.request.urlretrieve(url, full_path)\n",
    "      "
   ]
  },
  {
   "cell_type": "code",
   "execution_count": 33,
   "id": "2f3fc02e-516b-49cd-afde-d4463441e107",
   "metadata": {},
   "outputs": [],
   "source": [
    "import urllib\n",
    "def save_all_images_couleur_valid():\n",
    "    for c in L:\n",
    "        if c!='Matte Black/Golden ' and c!='Ivory/Tortoise ' and c!='Brown/Tortoise ' :\n",
    "          save_images_couleur_valid(c)\n",
    "    return(\"succes\")"
   ]
  },
  {
   "cell_type": "code",
   "execution_count": 38,
   "id": "a752678c-50df-49a8-8232-fa50aff2315a",
   "metadata": {},
   "outputs": [
    {
     "data": {
      "text/plain": [
       "'succes'"
      ]
     },
     "execution_count": 38,
     "metadata": {},
     "output_type": "execute_result"
    }
   ],
   "source": [
    "save_all_images_couleur_valid()"
   ]
  },
  {
   "cell_type": "code",
   "execution_count": 34,
   "id": "09163aac-a85b-43c9-980e-0ea279502a18",
   "metadata": {},
   "outputs": [],
   "source": [
    "#couleur=df['couleur'].unique()\n",
    "def save_images_forme_test(forme):\n",
    "  FILE_PATH = 'data/glasses_kpi_extraction/testdata/forme/'+forme+'/'\n",
    "  for i in range(df_test1.shape[0]):\n",
    "    if i != 1 :\n",
    "     filename = 'image-{}.jpg'.format(i)\n",
    "     if df_test1['forme'][i].replace(\" \", \"\")==forme:\n",
    "      url=df_test1['link'][i].split(';')[0][2:]\n",
    "      full_path = '{}{}'.format(FILE_PATH, filename)\n",
    "      urllib.request.urlretrieve(url, full_path)\n",
    "      "
   ]
  },
  {
   "cell_type": "code",
   "execution_count": 35,
   "id": "f883e14a-5e9d-4202-b785-6a2c1c56a5f0",
   "metadata": {},
   "outputs": [
    {
     "data": {
      "text/plain": [
       "['Visagerond',\n",
       " 'Rectangulaire',\n",
       " 'Visagecarré',\n",
       " 'Geometric',\n",
       " 'Ovale',\n",
       " 'Browline',\n",
       " 'Cœur',\n",
       " 'CatEye',\n",
       " 'Aviateur']"
      ]
     },
     "execution_count": 35,
     "metadata": {},
     "output_type": "execute_result"
    }
   ],
   "source": [
    "d1=df['forme'].unique()\n",
    "L1=[]\n",
    "for i in d1:\n",
    "    L1.append(i.replace(\" \", \"\"))\n",
    "L1"
   ]
  },
  {
   "cell_type": "code",
   "execution_count": 36,
   "id": "2fba204a-9a0d-4e85-9cc2-15c648c64406",
   "metadata": {},
   "outputs": [],
   "source": [
    "import urllib\n",
    "def save_all_images_forme_test():\n",
    "    for c in L1:\n",
    "           save_images_forme_test(c)\n",
    "    return(\"succes\")"
   ]
  },
  {
   "cell_type": "code",
   "execution_count": 62,
   "id": "4c83010d-4dd3-45b8-9d8c-3e2c393dd58c",
   "metadata": {},
   "outputs": [
    {
     "data": {
      "text/plain": [
       "'succes'"
      ]
     },
     "execution_count": 62,
     "metadata": {},
     "output_type": "execute_result"
    }
   ],
   "source": [
    "save_all_images_forme_test()"
   ]
  },
  {
   "cell_type": "code",
   "execution_count": 37,
   "id": "3453e1e7-7330-4a65-ab98-552d89c65c39",
   "metadata": {},
   "outputs": [],
   "source": [
    "def save_images_forme_train(forme):\n",
    "  FILE_PATH = 'data/glasses_kpi_extraction/traindata/forme/'+forme+'/'\n",
    "  for i in range(df_train1.shape[0]):\n",
    "    if i != 1 :\n",
    "     filename = 'image-{}.jpg'.format(i)\n",
    "     if df_train1['forme'][i].replace(\" \", \"\")==forme:\n",
    "      url=df_train1['link'][i].split(';')[0][2:]\n",
    "      full_path = '{}{}'.format(FILE_PATH, filename)\n",
    "      urllib.request.urlretrieve(url, full_path)\n",
    "      "
   ]
  },
  {
   "cell_type": "code",
   "execution_count": 38,
   "id": "c4b47634-7e41-4334-87aa-1c2f9de09b1b",
   "metadata": {},
   "outputs": [],
   "source": [
    "import urllib\n",
    "def save_all_images_forme_train():\n",
    "    for c in L1:\n",
    "           save_images_forme_train(c)\n",
    "    return(\"succes\")"
   ]
  },
  {
   "cell_type": "code",
   "execution_count": 66,
   "id": "80738298-57a5-4993-9005-6cdfe45c23a0",
   "metadata": {},
   "outputs": [
    {
     "data": {
      "text/plain": [
       "'succes'"
      ]
     },
     "execution_count": 66,
     "metadata": {},
     "output_type": "execute_result"
    }
   ],
   "source": [
    "save_all_images_forme_train()"
   ]
  },
  {
   "cell_type": "code",
   "execution_count": 39,
   "id": "8ed67c78-12cd-464a-a70f-99fb5c2bdc48",
   "metadata": {},
   "outputs": [],
   "source": [
    "def save_images_forme_valid(forme):\n",
    "  FILE_PATH = 'data/glasses_kpi_extraction/validdata/forme/'+forme+'/'\n",
    "  for i in range(df_valid1.shape[0]):\n",
    "    if i != 1 :\n",
    "     filename = 'image-{}.jpg'.format(i)\n",
    "     if df_valid1['forme'][i].replace(\" \", \"\")==forme:\n",
    "      url=df_valid1['link'][i].split(';')[0][2:]\n",
    "      full_path = '{}{}'.format(FILE_PATH, filename)\n",
    "      urllib.request.urlretrieve(url, full_path)\n",
    "      "
   ]
  },
  {
   "cell_type": "code",
   "execution_count": 40,
   "id": "fc9da205-f110-4e3f-9a5e-d7dd16d78fe9",
   "metadata": {},
   "outputs": [],
   "source": [
    "import urllib\n",
    "def save_all_images_forme_valid():\n",
    "    for c in L1:\n",
    "           save_images_forme_valid(c)\n",
    "    return(\"succes\")"
   ]
  },
  {
   "cell_type": "code",
   "execution_count": 69,
   "id": "60be14bc-ae9b-4626-b354-51d04f7bd3b7",
   "metadata": {},
   "outputs": [
    {
     "data": {
      "text/plain": [
       "'succes'"
      ]
     },
     "execution_count": 69,
     "metadata": {},
     "output_type": "execute_result"
    }
   ],
   "source": [
    "save_all_images_forme_valid()"
   ]
  },
  {
   "cell_type": "code",
   "execution_count": 41,
   "id": "71a59124-4b4c-43e9-a546-442cfe8ce1d4",
   "metadata": {},
   "outputs": [],
   "source": [
    "def save_images_materiau_train(materiau):\n",
    "  FILE_PATH = 'data/glasses_kpi_extraction/traindata/materiau/'+materiau+'/'\n",
    "  for i in range(df_train1.shape[0]):\n",
    "    if i != 1 :\n",
    "     filename = 'image-{}.jpg'.format(i)\n",
    "     if df_train1['materiau'][i].replace(\" \", \"\")==materiau:\n",
    "      url=df_train1['link'][i].split(';')[0][2:]\n",
    "      full_path = '{}{}'.format(FILE_PATH, filename)\n",
    "      urllib.request.urlretrieve(url, full_path)\n",
    "      "
   ]
  },
  {
   "cell_type": "code",
   "execution_count": 43,
   "id": "977bb195-1b76-4ba4-b1f6-c306860bf3e2",
   "metadata": {},
   "outputs": [
    {
     "data": {
      "text/plain": [
       "['metal',\n",
       " 'plastic',\n",
       " 'acetate',\n",
       " 'acetate-metal',\n",
       " 'plastic-metal',\n",
       " 'acetate,metal',\n",
       " 'acetate,mixedwood']"
      ]
     },
     "execution_count": 43,
     "metadata": {},
     "output_type": "execute_result"
    }
   ],
   "source": [
    "d2=df['materiau'].unique()\n",
    "L2=[]\n",
    "for i in d2:\n",
    "    L2.append(i.replace(\" \", \"\"))\n",
    "L2"
   ]
  },
  {
   "cell_type": "code",
   "execution_count": 42,
   "id": "f302c732-6a76-44e7-99c4-1cbb9e222e87",
   "metadata": {},
   "outputs": [],
   "source": [
    "import urllib\n",
    "def save_all_images_materiau_train():\n",
    "    for c in L2:\n",
    "           save_images_materiau_train(c)\n",
    "    return(\"succes\")"
   ]
  },
  {
   "cell_type": "code",
   "execution_count": 74,
   "id": "e73ae308-c6d3-4ed5-888d-addf82f830bf",
   "metadata": {},
   "outputs": [
    {
     "data": {
      "text/plain": [
       "'succes'"
      ]
     },
     "execution_count": 74,
     "metadata": {},
     "output_type": "execute_result"
    }
   ],
   "source": [
    "save_all_images_materiau_train()"
   ]
  },
  {
   "cell_type": "code",
   "execution_count": 44,
   "id": "a12f2227-3b57-4bf1-8e29-ef62dad7e862",
   "metadata": {},
   "outputs": [],
   "source": [
    "def save_images_materiau_test(materiau):\n",
    "  FILE_PATH = 'data/glasses_kpi_extraction/testdata/materiau/'+materiau+'/'\n",
    "  for i in range(df_test1.shape[0]):\n",
    "    if i != 1 :\n",
    "     filename = 'image-{}.jpg'.format(i)\n",
    "     if df_test1['materiau'][i].replace(\" \", \"\")==materiau:\n",
    "      url=df_test1['link'][i].split(';')[0][2:]\n",
    "      full_path = '{}{}'.format(FILE_PATH, filename)\n",
    "      urllib.request.urlretrieve(url, full_path)"
   ]
  },
  {
   "cell_type": "code",
   "execution_count": 45,
   "id": "889edfd8-cf86-4296-9acc-cfd0bed630a1",
   "metadata": {},
   "outputs": [],
   "source": [
    "import urllib\n",
    "def save_all_images_materiau_test():\n",
    "    for c in L2:\n",
    "           save_images_materiau_test(c)\n",
    "    return(\"succes\")"
   ]
  },
  {
   "cell_type": "code",
   "execution_count": 83,
   "id": "839f5adf-fc77-4557-8c7c-285222641fca",
   "metadata": {},
   "outputs": [
    {
     "data": {
      "text/plain": [
       "'succes'"
      ]
     },
     "execution_count": 83,
     "metadata": {},
     "output_type": "execute_result"
    }
   ],
   "source": [
    "save_all_images_materiau_test()"
   ]
  },
  {
   "cell_type": "code",
   "execution_count": 46,
   "id": "4c294882-bc8a-48f9-9ec1-2c9f0f667a3b",
   "metadata": {},
   "outputs": [],
   "source": [
    "def save_images_materiau_valid(materiau):\n",
    "  FILE_PATH = 'data/glasses_kpi_extraction/validdata/materiau/'+materiau+'/'\n",
    "  for i in range(df_valid1.shape[0]):\n",
    "    if i != 1 :\n",
    "     filename = 'image-{}.jpg'.format(i)\n",
    "     if df_valid1['materiau'][i].replace(\" \", \"\")==materiau:\n",
    "      url=df_valid1['link'][i].split(';')[0][2:]\n",
    "      full_path = '{}{}'.format(FILE_PATH, filename)\n",
    "      urllib.request.urlretrieve(url, full_path)"
   ]
  },
  {
   "cell_type": "code",
   "execution_count": 47,
   "id": "90f8eee4-93db-40d2-b983-aac793b116f6",
   "metadata": {},
   "outputs": [],
   "source": [
    "import urllib\n",
    "def save_all_images_materiau_valid():\n",
    "    for c in L2:\n",
    "           save_images_materiau_valid(c)\n",
    "    return(\"succes\")"
   ]
  },
  {
   "cell_type": "code",
   "execution_count": 48,
   "id": "0a19cace-0a34-4f31-bc08-b28d8f7c7b9e",
   "metadata": {},
   "outputs": [
    {
     "data": {
      "text/plain": [
       "'succes'"
      ]
     },
     "execution_count": 48,
     "metadata": {},
     "output_type": "execute_result"
    }
   ],
   "source": [
    "save_all_images_materiau_valid()"
   ]
  },
  {
   "cell_type": "code",
   "execution_count": 83,
   "id": "65a5f6a7-80be-47e2-9855-5f2d0c7c7e6e",
   "metadata": {},
   "outputs": [],
   "source": [
    "def save_images_caract_new(typedata,caract,sousCarac,df_type):\n",
    "  FILE_PATH = 'data/glasses_kpi_extraction/'+ typedata+ '/'+ caract+'/'+sousCarac+ '/'\n",
    "  for i in range(df_type.shape[0]):\n",
    "     filename = 'image-{}.jpg'.format(i)\n",
    "     if df_type[caract][i].replace(\" \", \"\")==sousCarac:\n",
    "      url=df_type['link'][i].split(';')[0][2:]\n",
    "      full_path = '{}{}'.format(FILE_PATH, filename)\n",
    "      urllib.request.urlretrieve(url, full_path)"
   ]
  },
  {
   "cell_type": "code",
   "execution_count": 67,
   "id": "a5050971-4ea8-44e8-8249-4c70204ed9a4",
   "metadata": {},
   "outputs": [],
   "source": [
    "save_images_caract_new(\"traindata\",\"monture\",\"Lunettesdevuecerclées\",df_train1)"
   ]
  },
  {
   "cell_type": "code",
   "execution_count": 68,
   "id": "7d4eb2c1-073b-4df7-9325-40d7dbffaac0",
   "metadata": {},
   "outputs": [
    {
     "data": {
      "text/plain": [
       "['Lunettesdevuecerclées',\n",
       " 'Lunettesdevuepercées',\n",
       " 'Lunettesdevuedemi-cerclées',\n",
       " 'lunettedesoleilcerclées']"
      ]
     },
     "execution_count": 68,
     "metadata": {},
     "output_type": "execute_result"
    }
   ],
   "source": [
    "d3=df['monture'].unique()\n",
    "L3=[]\n",
    "for i in d3:\n",
    "    L3.append(i.replace(\" \", \"\"))\n",
    "L3"
   ]
  },
  {
   "cell_type": "code",
   "execution_count": 85,
   "id": "04fc1bd7-d838-409d-8e20-3aa99c196a57",
   "metadata": {},
   "outputs": [],
   "source": [
    "import urllib\n",
    "def save_all_images_caract_new(typedata,caract,df_type):\n",
    "    for c in L3:\n",
    "        save_images_caract_new(typedata,caract,c,df_type)\n",
    "    return(\"succes\")"
   ]
  },
  {
   "cell_type": "code",
   "execution_count": 86,
   "id": "81966d54-b740-4749-ae0c-1afbfe8e6c45",
   "metadata": {},
   "outputs": [
    {
     "data": {
      "text/plain": [
       "'succes'"
      ]
     },
     "execution_count": 86,
     "metadata": {},
     "output_type": "execute_result"
    }
   ],
   "source": [
    "save_all_images_caract_new(\"traindata\",\"monture\",df_train1)"
   ]
  },
  {
   "cell_type": "code",
   "execution_count": 87,
   "id": "158024fe-5f2a-47b1-8d7f-282688f9be65",
   "metadata": {},
   "outputs": [
    {
     "data": {
      "text/plain": [
       "'succes'"
      ]
     },
     "execution_count": 87,
     "metadata": {},
     "output_type": "execute_result"
    }
   ],
   "source": [
    "save_all_images_caract_new(\"testdata\",\"monture\",df_test1)"
   ]
  },
  {
   "cell_type": "code",
   "execution_count": 88,
   "id": "6411534d-0120-4e2f-91b1-9110dd4e4411",
   "metadata": {},
   "outputs": [
    {
     "data": {
      "text/plain": [
       "'succes'"
      ]
     },
     "execution_count": 88,
     "metadata": {},
     "output_type": "execute_result"
    }
   ],
   "source": [
    "save_all_images_caract_new(\"validdata\",\"monture\",df_valid1)"
   ]
  },
  {
   "cell_type": "code",
   "execution_count": 96,
   "id": "68775fe0-b368-4478-bc6f-1527fd4a7e10",
   "metadata": {},
   "outputs": [],
   "source": [
    "import urllib\n",
    "def save_all_images_caract_new1(typedata,caract,df_type,L):\n",
    "    for c in L:\n",
    "        save_images_caract_new(typedata,caract,c,df_type)\n",
    "    return(\"succes\")"
   ]
  },
  {
   "cell_type": "code",
   "execution_count": 97,
   "id": "22c5aa8e-4788-4725-9d1b-1d473e2e1f78",
   "metadata": {},
   "outputs": [
    {
     "data": {
      "text/plain": [
       "['Légères(15g)',\n",
       " 'Légères(11g)',\n",
       " '22g',\n",
       " '16g',\n",
       " 'Légères(13g)',\n",
       " '19g',\n",
       " '18g',\n",
       " 'Légères(12g)',\n",
       " 'Légères(14g)',\n",
       " '17g',\n",
       " 'Légères(10g)',\n",
       " '20g',\n",
       " '29g',\n",
       " '21g',\n",
       " 'Légères(9g)',\n",
       " 'Légères(8g)',\n",
       " '24g',\n",
       " '28g',\n",
       " '25g',\n",
       " '37g',\n",
       " '23g',\n",
       " '26g',\n",
       " '27g']"
      ]
     },
     "execution_count": 97,
     "metadata": {},
     "output_type": "execute_result"
    }
   ],
   "source": [
    "d4=df['poids'].unique()\n",
    "L4=[]\n",
    "for i in d4:\n",
    "    L4.append(i.replace(\" \", \"\"))\n",
    "L4"
   ]
  },
  {
   "cell_type": "code",
   "execution_count": 98,
   "id": "a0e4f7b0-cc16-41c3-9ad8-22e2ff44cd1a",
   "metadata": {},
   "outputs": [
    {
     "data": {
      "text/plain": [
       "'succes'"
      ]
     },
     "execution_count": 98,
     "metadata": {},
     "output_type": "execute_result"
    }
   ],
   "source": [
    "save_all_images_caract_new1(\"traindata\",\"poids\",df_train1,L4)"
   ]
  },
  {
   "cell_type": "code",
   "execution_count": 99,
   "id": "470ee984-bd0a-4e2e-b4b9-053bff709ac7",
   "metadata": {},
   "outputs": [
    {
     "data": {
      "text/plain": [
       "'succes'"
      ]
     },
     "execution_count": 99,
     "metadata": {},
     "output_type": "execute_result"
    }
   ],
   "source": [
    "save_all_images_caract_new1(\"testdata\",\"poids\",df_test1,L4)"
   ]
  },
  {
   "cell_type": "code",
   "execution_count": 100,
   "id": "cb9ab3ba-760a-466a-8402-9686422f2d70",
   "metadata": {},
   "outputs": [
    {
     "data": {
      "text/plain": [
       "'succes'"
      ]
     },
     "execution_count": 100,
     "metadata": {},
     "output_type": "execute_result"
    }
   ],
   "source": [
    "save_all_images_caract_new1(\"validdata\",\"poids\",df_valid1,L4)"
   ]
  },
  {
   "cell_type": "code",
   "execution_count": 102,
   "id": "b2f6ca66-24e4-4d03-b2ab-76a137d6df85",
   "metadata": {},
   "outputs": [
    {
     "data": {
      "text/plain": [
       "['Homme', 'Femme', 'Enfant']"
      ]
     },
     "execution_count": 102,
     "metadata": {},
     "output_type": "execute_result"
    }
   ],
   "source": [
    "d5=df['sexe'].unique()\n",
    "L5=[]\n",
    "for i in d5:\n",
    "    L5.append(i.replace(\" \", \"\"))\n",
    "L5"
   ]
  },
  {
   "cell_type": "code",
   "execution_count": 103,
   "id": "5c2a64fb-c70c-4dc5-8f3a-e974414cfbda",
   "metadata": {},
   "outputs": [
    {
     "data": {
      "text/plain": [
       "'succes'"
      ]
     },
     "execution_count": 103,
     "metadata": {},
     "output_type": "execute_result"
    }
   ],
   "source": [
    "save_all_images_caract_new1(\"traindata\",\"sexe\",df_train1,L5)"
   ]
  },
  {
   "cell_type": "code",
   "execution_count": 104,
   "id": "deb1846b-b9a0-4fd3-b3de-1d988bc0b965",
   "metadata": {},
   "outputs": [
    {
     "data": {
      "text/plain": [
       "'succes'"
      ]
     },
     "execution_count": 104,
     "metadata": {},
     "output_type": "execute_result"
    }
   ],
   "source": [
    "save_all_images_caract_new1(\"testdata\",\"sexe\",df_test1,L5)"
   ]
  },
  {
   "cell_type": "code",
   "execution_count": 105,
   "id": "f23543be-50a3-4e7b-aac1-bb011e9ca195",
   "metadata": {},
   "outputs": [
    {
     "data": {
      "text/plain": [
       "'succes'"
      ]
     },
     "execution_count": 105,
     "metadata": {},
     "output_type": "execute_result"
    }
   ],
   "source": [
    "save_all_images_caract_new1(\"validdata\",\"sexe\",df_valid1,L5)"
   ]
  },
  {
   "cell_type": "code",
   "execution_count": 107,
   "id": "a646cd80-10ef-4bee-b231-4c270f52d094",
   "metadata": {},
   "outputs": [
    {
     "data": {
      "text/plain": [
       "['Optique', 'Soleil']"
      ]
     },
     "execution_count": 107,
     "metadata": {},
     "output_type": "execute_result"
    }
   ],
   "source": [
    "d6=df['type'].unique()\n",
    "L6=[]\n",
    "for i in d6:\n",
    "    L6.append(i.replace(\" \", \"\"))\n",
    "L6"
   ]
  },
  {
   "cell_type": "code",
   "execution_count": 108,
   "id": "85d517c6-d7be-4bad-8014-81b5fc48d71f",
   "metadata": {},
   "outputs": [
    {
     "data": {
      "text/plain": [
       "'succes'"
      ]
     },
     "execution_count": 108,
     "metadata": {},
     "output_type": "execute_result"
    }
   ],
   "source": [
    "save_all_images_caract_new1(\"traindata\",\"type\",df_train1,L6)"
   ]
  },
  {
   "cell_type": "code",
   "execution_count": 109,
   "id": "d33eef8c-12ad-452f-bfd8-1cc50ff8d8a7",
   "metadata": {},
   "outputs": [
    {
     "data": {
      "text/plain": [
       "'succes'"
      ]
     },
     "execution_count": 109,
     "metadata": {},
     "output_type": "execute_result"
    }
   ],
   "source": [
    "save_all_images_caract_new1(\"testdata\",\"type\",df_test1,L6)"
   ]
  },
  {
   "cell_type": "code",
   "execution_count": 110,
   "id": "a1683ce0-a31a-42cb-81ce-5001c1478c90",
   "metadata": {},
   "outputs": [
    {
     "data": {
      "text/plain": [
       "'succes'"
      ]
     },
     "execution_count": 110,
     "metadata": {},
     "output_type": "execute_result"
    }
   ],
   "source": [
    "save_all_images_caract_new1(\"testdata\",\"type\",df_test1,L6)"
   ]
  },
  {
   "cell_type": "code",
   "execution_count": 4,
   "id": "3f8c47e2-271c-4632-bb33-b4d8d862faa4",
   "metadata": {},
   "outputs": [],
   "source": [
    "import os \n",
    "def equilibrage(pathmin , pathmax):\n",
    "    nb_train_round_img = len(os.listdir(pathmin))\n",
    "    nb_train_rectange_img = len(os.listdir(pathmax))\n",
    "    i = 0\n",
    "    for file in os.listdir(pathmax):\n",
    "            f = pathmax+\"/\"+file\n",
    "            i += 1\n",
    "            if i > nb_train_rectange_img-nb_train_round_img:\n",
    "                break\n",
    "            else:\n",
    "                os.remove(f)\n",
    "    #print(len(os.listdir(pathrectangle)) , len(os.listdir(pathround)) )\n",
    "    return  len(os.listdir(pathmax)) == len(os.listdir(pathmin))"
   ]
  },
  {
   "cell_type": "code",
   "execution_count": 5,
   "id": "9e3d135f-23ae-4502-b84b-adc85aa7ead2",
   "metadata": {},
   "outputs": [],
   "source": [
    "def plot_modality(path):\n",
    "    modality_name = []\n",
    "    modality_val = []\n",
    "    for file in os.listdir(path):\n",
    "        f = path+\"/\"+file\n",
    "        #print(f)\n",
    "        modality_name.append(file)\n",
    "        modality_val.append(len(os.listdir(f)))\n",
    "    plt.bar(modality_name,modality_val)\n",
    "    plt.show()"
   ]
  },
  {
   "cell_type": "code",
   "execution_count": 14,
   "id": "18d8f727-d575-40ee-81e0-c20bc2315db5",
   "metadata": {},
   "outputs": [
    {
     "data": {
      "image/png": "[encoded data removed]",
      "text/plain": [
       "<Figure size 432x288 with 1 Axes>"
      ]
     },
     "metadata": {
      "needs_background": "light"
     },
     "output_type": "display_data"
    }
   ],
   "source": [
    "#type : equilibrage de la type \n",
    "equilibrage(\"data/glasses_kpi_extraction/traindata/type/Soleil\" , \"data/glasses_kpi_extraction/traindata/type/Optique\")\n",
    "equilibrage(\"data/glasses_kpi_extraction/testdata/type/Soleil\" , \"data/glasses_kpi_extraction/testdata/type/Optique\")\n",
    "equilibrage(\"data/glasses_kpi_extraction/validdata/type/Optique\" , \"data/glasses_kpi_extraction/validdata/type/Optique\")\n",
    "plot_modality(path = \"data/glasses_kpi_extraction/traindata/type\")"
   ]
  },
  {
   "cell_type": "code",
   "execution_count": 16,
   "id": "403e4676-90c7-42e5-adf4-b015965df744",
   "metadata": {},
   "outputs": [
    {
     "data": {
      "image/png": "[encoded data removed]",
      "text/plain": [
       "<Figure size 432x288 with 1 Axes>"
      ]
     },
     "metadata": {
      "needs_background": "light"
     },
     "output_type": "display_data"
    }
   ],
   "source": [
    "#sexe : equilibrage de la sexe\n",
    "equilibrage(\"data/glasses_kpi_extraction/traindata/sexe/Homme\" , \"data/glasses_kpi_extraction/traindata/sexe/Femme\")\n",
    "equilibrage(\"data/glasses_kpi_extraction/testdata/sexe/Homme\" , \"data/glasses_kpi_extraction/testdata/sexe/Femme\")\n",
    "equilibrage(\"data/glasses_kpi_extraction/validdata/sexe/Homme\" , \"data/glasses_kpi_extraction/validdata/sexe/Femme\")\n",
    "plot_modality(path = \"data/glasses_kpi_extraction/traindata/sexe\")"
   ]
  },
  {
   "cell_type": "code",
   "execution_count": 19,
   "id": "8dffe248-2bf7-45ff-9c3c-f9e6fd204246",
   "metadata": {},
   "outputs": [
    {
     "data": {
      "image/png": "[encoded data removed]",
      "text/plain": [
       "<Figure size 432x288 with 1 Axes>"
      ]
     },
     "metadata": {
      "needs_background": "light"
     },
     "output_type": "display_data"
    }
   ],
   "source": [
    "#equilibrage de materiau\n",
    "equilibrage(\"data/glasses_kpi_extraction/traindata/materiau/acetate-metal\" , \"data/glasses_kpi_extraction/traindata/materiau/acetate\")\n",
    "equilibrage(\"data/glasses_kpi_extraction/testdata/materiau/acetate-metal\" , \"data/glasses_kpi_extraction/testdata/materiau/acetate\")\n",
    "equilibrage(\"data/glasses_kpi_extraction/validdata/materiau/acetate-metal\" , \"data/glasses_kpi_extraction/validdata/materiau/acetate\")\n",
    "\n",
    "equilibrage(\"data/glasses_kpi_extraction/traindata/materiau/acetate-metal\" , \"data/glasses_kpi_extraction/traindata/materiau/metal\")\n",
    "equilibrage(\"data/glasses_kpi_extraction/testdata/materiau/acetate-metal\" , \"data/glasses_kpi_extraction/testdata/materiau/metal\")\n",
    "equilibrage(\"data/glasses_kpi_extraction/validdata/materiau/acetate-metal\" , \"data/glasses_kpi_extraction/validdata/materiau/metal\")\n",
    "equilibrage(\"data/glasses_kpi_extraction/traindata/materiau/acetate-metal\" , \"data/glasses_kpi_extraction/traindata/materiau/plastic\")\n",
    "equilibrage(\"data/glasses_kpi_extraction/testdata/materiau/acetate-metal\" , \"data/glasses_kpi_extraction/testdata/materiau/plastic\")\n",
    "equilibrage(\"data/glasses_kpi_extraction/validdata/materiau/acetate-metal\" , \"data/glasses_kpi_extraction/validdata/materiau/plastic\")\n",
    "plot_modality(path = \"data/glasses_kpi_extraction/traindata/materiau\")"
   ]
  },
  {
   "cell_type": "code",
   "execution_count": 22,
   "id": "8576ffcf-9176-42dc-939a-48868732a7df",
   "metadata": {},
   "outputs": [
    {
     "data": {
      "image/png": "[encoded data removed]",
      "text/plain": [
       "<Figure size 432x288 with 1 Axes>"
      ]
     },
     "metadata": {
      "needs_background": "light"
     },
     "output_type": "display_data"
    }
   ],
   "source": [
    "#equilibrage de forme\n",
    "equilibrage(\"data/glasses_kpi_extraction/traindata/forme/Visagecarré\" , \"data/glasses_kpi_extraction/traindata/forme/Visagerond\")\n",
    "equilibrage(\"data/glasses_kpi_extraction/testdata/forme/Visagecarré\" , \"data/glasses_kpi_extraction/testdata/forme/Visagerond\")\n",
    "equilibrage(\"data/glasses_kpi_extraction/validdata/forme/Visagecarré\" , \"data/glasses_kpi_extraction/validdata/forme/Visagerond\")\n",
    "plot_modality(path = \"data/glasses_kpi_extraction/traindata/forme\")"
   ]
  },
  {
   "cell_type": "code",
   "execution_count": null,
   "id": "08e9240b-20e1-42ff-8c48-7c9570e72d8a",
   "metadata": {},
   "outputs": [],
   "source": []
  },
  {
   "cell_type": "code",
   "execution_count": null,
   "id": "e445a274-0cf9-4a63-8ce3-98a9d08d380d",
   "metadata": {},
   "outputs": [],
   "source": []
  },
  {
   "cell_type": "code",
   "execution_count": null,
   "id": "795035ed-a986-4261-9934-9f205ade3777",
   "metadata": {},
   "outputs": [],
   "source": []
  },
  {
   "cell_type": "code",
   "execution_count": null,
   "id": "c78445ac-0655-4eca-ab3c-b7978c4fcb4e",
   "metadata": {},
   "outputs": [],
   "source": []
  }
 ],
 "metadata": {
  "kernelspec": {
   "display_name": "Python 3 (ipykernel)",
   "language": "python",
   "name": "python3"
  },
  "language_info": {
   "codemirror_mode": {
    "name": "ipython",
    "version": 3
   },
   "file_extension": ".py",
   "mimetype": "text/x-python",
   "name": "python",
   "nbconvert_exporter": "python",
   "pygments_lexer": "ipython3",
   "version": "3.9.7"
  }
 },
 "nbformat": 4,
 "nbformat_minor": 5
}
